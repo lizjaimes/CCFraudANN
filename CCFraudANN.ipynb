{
  "nbformat": 4,
  "nbformat_minor": 0,
  "metadata": {
    "colab": {
      "provenance": [],
      "authorship_tag": "ABX9TyPN7UFgIIEDwNfBKg2jNzRV",
      "include_colab_link": true
    },
    "kernelspec": {
      "name": "python3",
      "display_name": "Python 3"
    },
    "language_info": {
      "name": "python"
    }
  },
  "cells": [
    {
      "cell_type": "markdown",
      "metadata": {
        "id": "view-in-github",
        "colab_type": "text"
      },
      "source": [
        "<a href=\"https://colab.research.google.com/github/lizjaimes/CCFraudANN/blob/main/CCFraudANN.ipynb\" target=\"_parent\"><img src=\"https://colab.research.google.com/assets/colab-badge.svg\" alt=\"Open In Colab\"/></a>"
      ]
    },
    {
      "cell_type": "code",
      "execution_count": null,
      "metadata": {
        "colab": {
          "base_uri": "https://localhost:8080/"
        },
        "id": "VMnV8obJF6Pz",
        "outputId": "9d8f6d3a-4226-4d36-ca55-4e21cefb04e3"
      },
      "outputs": [
        {
          "output_type": "stream",
          "name": "stdout",
          "text": [
            "23\n",
            "        Unnamed: 0 trans_date_trans_time        cc_num  \\\n",
            "0                0         1/1/2019 0:00  2.703190e+15   \n",
            "1                1         1/1/2019 0:00  6.304230e+11   \n",
            "2                2         1/1/2019 0:00  3.885950e+13   \n",
            "3                3         1/1/2019 0:01  3.534090e+15   \n",
            "4                4         1/1/2019 0:03  3.755340e+14   \n",
            "...            ...                   ...           ...   \n",
            "233954      233954        4/28/2019 4:01  4.149240e+15   \n",
            "233955      233955        4/28/2019 4:02  1.800730e+14   \n",
            "233956      233956        4/28/2019 4:03  3.546900e+15   \n",
            "233957      233957        4/28/2019 4:04  3.885950e+13   \n",
            "233958      233958        4/28/2019 4:04  6.759620e+11   \n",
            "\n",
            "                                    merchant       category     amt  \\\n",
            "0                 fraud_Rippin, Kub and Mann       misc_net    4.97   \n",
            "1            fraud_Heller, Gutmann and Zieme    grocery_pos  107.23   \n",
            "2                       fraud_Lind-Buckridge  entertainment  220.11   \n",
            "3         fraud_Kutch, Hermiston and Farrell  gas_transport   45.00   \n",
            "4                        fraud_Keeling-Crist       misc_pos   41.96   \n",
            "...                                      ...            ...     ...   \n",
            "233954                       fraud_Price Inc   shopping_net   84.39   \n",
            "233955                     fraud_Lockman Ltd    grocery_pos  115.15   \n",
            "233956                    fraud_Luettgen PLC  gas_transport   43.23   \n",
            "233957                        fraud_Will Ltd    food_dining   86.39   \n",
            "233958  fraud_Tillman, Dickinson and Labadie  gas_transport   39.38   \n",
            "\n",
            "              first      last gender                        street  ...  \\\n",
            "0          Jennifer     Banks      F                561 Perry Cove  ...   \n",
            "1         Stephanie      Gill      F  43039 Riley Greens Suite 393  ...   \n",
            "2            Edward   Sanchez      M      594 White Dale Suite 530  ...   \n",
            "3            Jeremy     White      M   9443 Cynthia Court Apt. 038  ...   \n",
            "4             Tyler    Garcia      M              408 Bradley Rest  ...   \n",
            "...             ...       ...    ...                           ...  ...   \n",
            "233954       Tanner   Carroll      M               494 Burke Ports  ...   \n",
            "233955         Cody    Miller      M              25748 John Wells  ...   \n",
            "233956        Kayla    Obrien      F    7921 Robert Port Suite 343  ...   \n",
            "233957       Edward   Sanchez      M      594 White Dale Suite 530  ...   \n",
            "233958  Christopher  Cummings      M    478 George Course Apt. 056  ...   \n",
            "\n",
            "            lat      long  city_pop                                   job  \\\n",
            "0       36.0788  -81.1781    3495.0             Psychologist, counselling   \n",
            "1       48.8878 -118.2105     149.0     Special educational needs teacher   \n",
            "2       42.1808 -112.2620    4154.0           Nature conservation officer   \n",
            "3       46.2306 -112.1138    1939.0                       Patent attorney   \n",
            "4       38.4207  -79.4629      99.0        Dance movement psychotherapist   \n",
            "...         ...       ...       ...                                   ...   \n",
            "233954  40.1008  -80.0652     632.0                                Dealer   \n",
            "233955  35.5840  -80.8685   69793.0  Control and instrumentation engineer   \n",
            "233956  31.6591  -96.8094     263.0                             Barrister   \n",
            "233957  42.1808 -112.2620    4154.0           Nature conservation officer   \n",
            "233958  40.0000       NaN       NaN                                   NaN   \n",
            "\n",
            "              dob                         trans_num     unix_time  merch_lat  \\\n",
            "0        3/9/1988  0b242abb623afc578575680df30655b9  1.325376e+09  36.011293   \n",
            "1       6/21/1978  1f76529f8574734946361c461b024d99  1.325376e+09  49.159047   \n",
            "2       1/19/1962  a1a22d70485983eac12b5b88dad1cf95  1.325376e+09  43.150704   \n",
            "3       1/12/1967  6b849c168bdad6f867558c3793159a81  1.325376e+09  47.034331   \n",
            "4       3/28/1986  a41d7549acf90789359a9aa5346dcb46  1.325376e+09  38.674999   \n",
            "...           ...                               ...           ...        ...   \n",
            "233954   4/8/1989  5d57547da6ec3f99667f8bd210c7d78b  1.335586e+09  39.355996   \n",
            "233955  12/8/1953  c51df95b37106cc5efe48ed83af88dfe  1.335586e+09  36.354293   \n",
            "233956  5/30/1956  f746fc71602256c4bec19000f48fd5de  1.335586e+09  32.406991   \n",
            "233957  1/19/1962  24b010fc4eed193603787e9fe0577f82  1.335586e+09  42.505535   \n",
            "233958        NaN                               NaN           NaN        NaN   \n",
            "\n",
            "        merch_long  is_fraud  \n",
            "0       -82.048315       0.0  \n",
            "1      -118.186462       0.0  \n",
            "2      -112.154481       0.0  \n",
            "3      -112.561071       0.0  \n",
            "4       -78.632459       0.0  \n",
            "...            ...       ...  \n",
            "233954  -80.554468       0.0  \n",
            "233955  -80.257647       0.0  \n",
            "233956  -97.471622       0.0  \n",
            "233957 -112.229892       0.0  \n",
            "233958         NaN       NaN  \n",
            "\n",
            "[233959 rows x 23 columns]\n"
          ]
        }
      ],
      "source": [
        "import matplotlib.pyplot as plt\n",
        "import tensorflow as tf\n",
        "import numpy as np\n",
        "import pandas as pd\n",
        "from sklearn.preprocessing import LabelEncoder\n",
        "from sklearn.utils import shuffle\n",
        "from sklearn.model_selection import train_test_split\n",
        "from sklearn.metrics import confusion_matrix\n",
        "\n",
        "# Reading the dataset\n",
        "\n",
        "df = pd.read_csv(\"/content/fraudTrain.csv\")\n",
        "print(len(df.columns))\n",
        "print (df)\n",
        "# Preprocessing: Extract features from date and time columns\n",
        "df['trans_date_trans_time'] = pd.to_datetime(df['trans_date_trans_time'])\n",
        "df['DayOfWeek'] = df['trans_date_trans_time'].dt.dayofweek"
      ]
    },
    {
      "cell_type": "code",
      "source": [
        "df['Month'] = df['trans_date_trans_time'].dt.month\n",
        "df['Hour'] = df['trans_date_trans_time'].dt.hour\n",
        "# Preprocessing: Drop the original date and time columns\n",
        "df.drop(columns=['trans_date_trans_time'], inplace=True)\n",
        " #Preprocessing: Handle missing values (replace with mean for simplicity)\n",
        "df.fillna(df.mean(), inplace=True)"
      ],
      "metadata": {
        "colab": {
          "base_uri": "https://localhost:8080/"
        },
        "id": "Ce_MzVWJGa4e",
        "outputId": "786ee927-c34b-4845-bd65-6e2627788399"
      },
      "execution_count": null,
      "outputs": [
        {
          "output_type": "stream",
          "name": "stderr",
          "text": [
            "<ipython-input-2-31bbf890ca21>:6: FutureWarning: The default value of numeric_only in DataFrame.mean is deprecated. In a future version, it will default to False. In addition, specifying 'numeric_only=None' is deprecated. Select only valid columns or specify the value of numeric_only to silence this warning.\n",
            "  df.fillna(df.mean(), inplace=True)\n"
          ]
        }
      ]
    },
    {
      "cell_type": "code",
      "source": [
        "# Define the feature columns and target column\n",
        "features = df.drop(columns=['is_fraud'])\n",
        "target = df['is_fraud']"
      ],
      "metadata": {
        "id": "u9Ebmnp1IVJI"
      },
      "execution_count": null,
      "outputs": []
    },
    {
      "cell_type": "code",
      "source": [
        "# Preprocessing: Define transformers for numerical and categorical columns\n",
        "numerical_features = ['amt', 'lat', 'long', 'city_pop', 'unix_time', 'merch_lat', 'merch_long', 'DayOfWeek', 'Month', 'Hour']\n",
        "categorical_features = ['merchant', 'category', 'first', 'last', 'gender', 'street', 'city', 'state', 'zip', 'job', 'dob', 'trans_num']\n"
      ],
      "metadata": {
        "id": "vYtUWO5zIdB9"
      },
      "execution_count": null,
      "outputs": []
    },
    {
      "cell_type": "code",
      "source": [
        "!pip install scikit-learn\n",
        "import sklearn\n",
        "from sklearn.preprocessing import StandardScaler, OneHotEncoder\n",
        "\n",
        "numerical_transformer = StandardScaler()\n",
        "categorical_transformer = OneHotEncoder(handle_unknown='ignore')"
      ],
      "metadata": {
        "colab": {
          "base_uri": "https://localhost:8080/"
        },
        "id": "zOHM0xPOIhve",
        "outputId": "77429bcb-1f8f-423b-baf2-353d614a2c9f"
      },
      "execution_count": null,
      "outputs": [
        {
          "output_type": "stream",
          "name": "stdout",
          "text": [
            "Requirement already satisfied: scikit-learn in /usr/local/lib/python3.10/dist-packages (1.2.2)\n",
            "Requirement already satisfied: numpy>=1.17.3 in /usr/local/lib/python3.10/dist-packages (from scikit-learn) (1.22.4)\n",
            "Requirement already satisfied: scipy>=1.3.2 in /usr/local/lib/python3.10/dist-packages (from scikit-learn) (1.10.1)\n",
            "Requirement already satisfied: joblib>=1.1.1 in /usr/local/lib/python3.10/dist-packages (from scikit-learn) (1.3.1)\n",
            "Requirement already satisfied: threadpoolctl>=2.0.0 in /usr/local/lib/python3.10/dist-packages (from scikit-learn) (3.2.0)\n"
          ]
        }
      ]
    },
    {
      "cell_type": "code",
      "source": [
        "from sklearn.compose import ColumnTransformer\n",
        "preprocessor = ColumnTransformer(\n",
        "    transformers=[\n",
        "        ('num', numerical_transformer, numerical_features),\n",
        "        ('cat', categorical_transformer, categorical_features)\n",
        "    ])"
      ],
      "metadata": {
        "id": "UHcF7qjfK5n4"
      },
      "execution_count": null,
      "outputs": []
    },
    {
      "cell_type": "code",
      "source": [
        "# Preprocessing: Fit and transform the data\n",
        "X = preprocessor.fit_transform(features)\n",
        "y = target.values"
      ],
      "metadata": {
        "id": "zLc9x8TXLYUB"
      },
      "execution_count": null,
      "outputs": []
    },
    {
      "cell_type": "code",
      "source": [
        "# Split the data into training and testing sets\n",
        "X_train, X_test, y_train, y_test = train_test_split(X, y, test_size=0.2, random_state=42)"
      ],
      "metadata": {
        "id": "w0UfdJgFLc6V"
      },
      "execution_count": null,
      "outputs": []
    },
    {
      "cell_type": "code",
      "source": [
        "# Define the neural network model for binary classification\n",
        "model = tf.keras.Sequential([\n",
        "    tf.keras.layers.Dense(64, activation='relu', input_shape=(X_train.shape[1],)),\n",
        "    tf.keras.layers.Dense(32, activation='relu'),\n",
        "    tf.keras.layers.Dense(1, activation='sigmoid')  # Output layer with sigmoid activation for binary classification\n",
        "])"
      ],
      "metadata": {
        "id": "aFPafVSmLiRz"
      },
      "execution_count": null,
      "outputs": []
    },
    {
      "cell_type": "code",
      "source": [
        "# Compile the model with binary cross-entropy loss function\n",
        "model.compile(optimizer='adam', loss='binary_crossentropy', metrics=['accuracy'])"
      ],
      "metadata": {
        "id": "Nd0twvY9Ll47"
      },
      "execution_count": null,
      "outputs": []
    },
    {
      "cell_type": "code",
      "source": [
        "# Train the model\n",
        "#model.fit(X_train, y_train, epochs=100, batch_size=32, validation_split=0.2)\n",
        "from sklearn.model_selection import train_test_split\n",
        "\n",
        "# Split the data into training and validation sets\n",
        "X_train, X_validation, y_train, y_validation = train_test_split(X, y, test_size=0.2, random_state=42)\n",
        "\n",
        "# Now you can use the fit method with the validation_data argument\n",
        "model.fit(X_train, y_train, epochs=100, batch_size=32, validation_data=(X_validation, y_validation))\n"
      ],
      "metadata": {
        "colab": {
          "base_uri": "https://localhost:8080/",
          "height": 609
        },
        "id": "D6uPenWnLprz",
        "outputId": "3d19a322-46b0-4f6c-f891-52c2daec23d7"
      },
      "execution_count": null,
      "outputs": [
        {
          "output_type": "stream",
          "name": "stdout",
          "text": [
            "Epoch 1/100\n",
            "5849/5849 [==============================] - 5008s 856ms/step - loss: 0.0222 - accuracy: 0.9947 - val_loss: 0.0122 - val_accuracy: 0.9966\n",
            "Epoch 2/100\n",
            "5849/5849 [==============================] - 4793s 819ms/step - loss: 0.0088 - accuracy: 0.9974 - val_loss: 0.0095 - val_accuracy: 0.9972\n",
            "Epoch 3/100\n",
            "5849/5849 [==============================] - 4791s 819ms/step - loss: 0.0057 - accuracy: 0.9980 - val_loss: 0.0098 - val_accuracy: 0.9970\n",
            "Epoch 4/100\n",
            "5849/5849 [==============================] - 2569s 439ms/step - loss: 0.0038 - accuracy: 0.9985 - val_loss: 0.0096 - val_accuracy: 0.9976\n",
            "Epoch 5/100\n",
            "5849/5849 [==============================] - 2549s 436ms/step - loss: 0.0022 - accuracy: 0.9992 - val_loss: 0.0104 - val_accuracy: 0.9973\n",
            "Epoch 6/100\n",
            "   7/5849 [..............................] - ETA: 37:30 - loss: 0.0053 - accuracy: 0.9955    "
          ]
        },
        {
          "output_type": "error",
          "ename": "KeyboardInterrupt",
          "evalue": "ignored",
          "traceback": [
            "\u001b[0;31m---------------------------------------------------------------------------\u001b[0m",
            "\u001b[0;31mKeyboardInterrupt\u001b[0m                         Traceback (most recent call last)",
            "\u001b[0;32m<ipython-input-19-99cd1c8eaaff>\u001b[0m in \u001b[0;36m<cell line: 9>\u001b[0;34m()\u001b[0m\n\u001b[1;32m      7\u001b[0m \u001b[0;34m\u001b[0m\u001b[0m\n\u001b[1;32m      8\u001b[0m \u001b[0;31m# Now you can use the fit method with the validation_data argument\u001b[0m\u001b[0;34m\u001b[0m\u001b[0;34m\u001b[0m\u001b[0m\n\u001b[0;32m----> 9\u001b[0;31m \u001b[0mmodel\u001b[0m\u001b[0;34m.\u001b[0m\u001b[0mfit\u001b[0m\u001b[0;34m(\u001b[0m\u001b[0mX_train\u001b[0m\u001b[0;34m,\u001b[0m \u001b[0my_train\u001b[0m\u001b[0;34m,\u001b[0m \u001b[0mepochs\u001b[0m\u001b[0;34m=\u001b[0m\u001b[0;36m100\u001b[0m\u001b[0;34m,\u001b[0m \u001b[0mbatch_size\u001b[0m\u001b[0;34m=\u001b[0m\u001b[0;36m32\u001b[0m\u001b[0;34m,\u001b[0m \u001b[0mvalidation_data\u001b[0m\u001b[0;34m=\u001b[0m\u001b[0;34m(\u001b[0m\u001b[0mX_validation\u001b[0m\u001b[0;34m,\u001b[0m \u001b[0my_validation\u001b[0m\u001b[0;34m)\u001b[0m\u001b[0;34m)\u001b[0m\u001b[0;34m\u001b[0m\u001b[0;34m\u001b[0m\u001b[0m\n\u001b[0m",
            "\u001b[0;32m/usr/local/lib/python3.10/dist-packages/keras/utils/traceback_utils.py\u001b[0m in \u001b[0;36merror_handler\u001b[0;34m(*args, **kwargs)\u001b[0m\n\u001b[1;32m     63\u001b[0m         \u001b[0mfiltered_tb\u001b[0m \u001b[0;34m=\u001b[0m \u001b[0;32mNone\u001b[0m\u001b[0;34m\u001b[0m\u001b[0;34m\u001b[0m\u001b[0m\n\u001b[1;32m     64\u001b[0m         \u001b[0;32mtry\u001b[0m\u001b[0;34m:\u001b[0m\u001b[0;34m\u001b[0m\u001b[0;34m\u001b[0m\u001b[0m\n\u001b[0;32m---> 65\u001b[0;31m             \u001b[0;32mreturn\u001b[0m \u001b[0mfn\u001b[0m\u001b[0;34m(\u001b[0m\u001b[0;34m*\u001b[0m\u001b[0margs\u001b[0m\u001b[0;34m,\u001b[0m \u001b[0;34m**\u001b[0m\u001b[0mkwargs\u001b[0m\u001b[0;34m)\u001b[0m\u001b[0;34m\u001b[0m\u001b[0;34m\u001b[0m\u001b[0m\n\u001b[0m\u001b[1;32m     66\u001b[0m         \u001b[0;32mexcept\u001b[0m \u001b[0mException\u001b[0m \u001b[0;32mas\u001b[0m \u001b[0me\u001b[0m\u001b[0;34m:\u001b[0m\u001b[0;34m\u001b[0m\u001b[0;34m\u001b[0m\u001b[0m\n\u001b[1;32m     67\u001b[0m             \u001b[0mfiltered_tb\u001b[0m \u001b[0;34m=\u001b[0m \u001b[0m_process_traceback_frames\u001b[0m\u001b[0;34m(\u001b[0m\u001b[0me\u001b[0m\u001b[0;34m.\u001b[0m\u001b[0m__traceback__\u001b[0m\u001b[0;34m)\u001b[0m\u001b[0;34m\u001b[0m\u001b[0;34m\u001b[0m\u001b[0m\n",
            "\u001b[0;32m/usr/local/lib/python3.10/dist-packages/keras/engine/training.py\u001b[0m in \u001b[0;36mfit\u001b[0;34m(self, x, y, batch_size, epochs, verbose, callbacks, validation_split, validation_data, shuffle, class_weight, sample_weight, initial_epoch, steps_per_epoch, validation_steps, validation_batch_size, validation_freq, max_queue_size, workers, use_multiprocessing)\u001b[0m\n\u001b[1;32m   1683\u001b[0m                         ):\n\u001b[1;32m   1684\u001b[0m                             \u001b[0mcallbacks\u001b[0m\u001b[0;34m.\u001b[0m\u001b[0mon_train_batch_begin\u001b[0m\u001b[0;34m(\u001b[0m\u001b[0mstep\u001b[0m\u001b[0;34m)\u001b[0m\u001b[0;34m\u001b[0m\u001b[0;34m\u001b[0m\u001b[0m\n\u001b[0;32m-> 1685\u001b[0;31m                             \u001b[0mtmp_logs\u001b[0m \u001b[0;34m=\u001b[0m \u001b[0mself\u001b[0m\u001b[0;34m.\u001b[0m\u001b[0mtrain_function\u001b[0m\u001b[0;34m(\u001b[0m\u001b[0miterator\u001b[0m\u001b[0;34m)\u001b[0m\u001b[0;34m\u001b[0m\u001b[0;34m\u001b[0m\u001b[0m\n\u001b[0m\u001b[1;32m   1686\u001b[0m                             \u001b[0;32mif\u001b[0m \u001b[0mdata_handler\u001b[0m\u001b[0;34m.\u001b[0m\u001b[0mshould_sync\u001b[0m\u001b[0;34m:\u001b[0m\u001b[0;34m\u001b[0m\u001b[0;34m\u001b[0m\u001b[0m\n\u001b[1;32m   1687\u001b[0m                                 \u001b[0mcontext\u001b[0m\u001b[0;34m.\u001b[0m\u001b[0masync_wait\u001b[0m\u001b[0;34m(\u001b[0m\u001b[0;34m)\u001b[0m\u001b[0;34m\u001b[0m\u001b[0;34m\u001b[0m\u001b[0m\n",
            "\u001b[0;32m/usr/local/lib/python3.10/dist-packages/tensorflow/python/util/traceback_utils.py\u001b[0m in \u001b[0;36merror_handler\u001b[0;34m(*args, **kwargs)\u001b[0m\n\u001b[1;32m    148\u001b[0m     \u001b[0mfiltered_tb\u001b[0m \u001b[0;34m=\u001b[0m \u001b[0;32mNone\u001b[0m\u001b[0;34m\u001b[0m\u001b[0;34m\u001b[0m\u001b[0m\n\u001b[1;32m    149\u001b[0m     \u001b[0;32mtry\u001b[0m\u001b[0;34m:\u001b[0m\u001b[0;34m\u001b[0m\u001b[0;34m\u001b[0m\u001b[0m\n\u001b[0;32m--> 150\u001b[0;31m       \u001b[0;32mreturn\u001b[0m \u001b[0mfn\u001b[0m\u001b[0;34m(\u001b[0m\u001b[0;34m*\u001b[0m\u001b[0margs\u001b[0m\u001b[0;34m,\u001b[0m \u001b[0;34m**\u001b[0m\u001b[0mkwargs\u001b[0m\u001b[0;34m)\u001b[0m\u001b[0;34m\u001b[0m\u001b[0;34m\u001b[0m\u001b[0m\n\u001b[0m\u001b[1;32m    151\u001b[0m     \u001b[0;32mexcept\u001b[0m \u001b[0mException\u001b[0m \u001b[0;32mas\u001b[0m \u001b[0me\u001b[0m\u001b[0;34m:\u001b[0m\u001b[0;34m\u001b[0m\u001b[0;34m\u001b[0m\u001b[0m\n\u001b[1;32m    152\u001b[0m       \u001b[0mfiltered_tb\u001b[0m \u001b[0;34m=\u001b[0m \u001b[0m_process_traceback_frames\u001b[0m\u001b[0;34m(\u001b[0m\u001b[0me\u001b[0m\u001b[0;34m.\u001b[0m\u001b[0m__traceback__\u001b[0m\u001b[0;34m)\u001b[0m\u001b[0;34m\u001b[0m\u001b[0;34m\u001b[0m\u001b[0m\n",
            "\u001b[0;32m/usr/local/lib/python3.10/dist-packages/tensorflow/python/eager/polymorphic_function/polymorphic_function.py\u001b[0m in \u001b[0;36m__call__\u001b[0;34m(self, *args, **kwds)\u001b[0m\n\u001b[1;32m    892\u001b[0m \u001b[0;34m\u001b[0m\u001b[0m\n\u001b[1;32m    893\u001b[0m       \u001b[0;32mwith\u001b[0m \u001b[0mOptionalXlaContext\u001b[0m\u001b[0;34m(\u001b[0m\u001b[0mself\u001b[0m\u001b[0;34m.\u001b[0m\u001b[0m_jit_compile\u001b[0m\u001b[0;34m)\u001b[0m\u001b[0;34m:\u001b[0m\u001b[0;34m\u001b[0m\u001b[0;34m\u001b[0m\u001b[0m\n\u001b[0;32m--> 894\u001b[0;31m         \u001b[0mresult\u001b[0m \u001b[0;34m=\u001b[0m \u001b[0mself\u001b[0m\u001b[0;34m.\u001b[0m\u001b[0m_call\u001b[0m\u001b[0;34m(\u001b[0m\u001b[0;34m*\u001b[0m\u001b[0margs\u001b[0m\u001b[0;34m,\u001b[0m \u001b[0;34m**\u001b[0m\u001b[0mkwds\u001b[0m\u001b[0;34m)\u001b[0m\u001b[0;34m\u001b[0m\u001b[0;34m\u001b[0m\u001b[0m\n\u001b[0m\u001b[1;32m    895\u001b[0m \u001b[0;34m\u001b[0m\u001b[0m\n\u001b[1;32m    896\u001b[0m       \u001b[0mnew_tracing_count\u001b[0m \u001b[0;34m=\u001b[0m \u001b[0mself\u001b[0m\u001b[0;34m.\u001b[0m\u001b[0mexperimental_get_tracing_count\u001b[0m\u001b[0;34m(\u001b[0m\u001b[0;34m)\u001b[0m\u001b[0;34m\u001b[0m\u001b[0;34m\u001b[0m\u001b[0m\n",
            "\u001b[0;32m/usr/local/lib/python3.10/dist-packages/tensorflow/python/eager/polymorphic_function/polymorphic_function.py\u001b[0m in \u001b[0;36m_call\u001b[0;34m(self, *args, **kwds)\u001b[0m\n\u001b[1;32m    924\u001b[0m       \u001b[0;31m# In this case we have created variables on the first call, so we run the\u001b[0m\u001b[0;34m\u001b[0m\u001b[0;34m\u001b[0m\u001b[0m\n\u001b[1;32m    925\u001b[0m       \u001b[0;31m# defunned version which is guaranteed to never create variables.\u001b[0m\u001b[0;34m\u001b[0m\u001b[0;34m\u001b[0m\u001b[0m\n\u001b[0;32m--> 926\u001b[0;31m       \u001b[0;32mreturn\u001b[0m \u001b[0mself\u001b[0m\u001b[0;34m.\u001b[0m\u001b[0m_no_variable_creation_fn\u001b[0m\u001b[0;34m(\u001b[0m\u001b[0;34m*\u001b[0m\u001b[0margs\u001b[0m\u001b[0;34m,\u001b[0m \u001b[0;34m**\u001b[0m\u001b[0mkwds\u001b[0m\u001b[0;34m)\u001b[0m  \u001b[0;31m# pylint: disable=not-callable\u001b[0m\u001b[0;34m\u001b[0m\u001b[0;34m\u001b[0m\u001b[0m\n\u001b[0m\u001b[1;32m    927\u001b[0m     \u001b[0;32melif\u001b[0m \u001b[0mself\u001b[0m\u001b[0;34m.\u001b[0m\u001b[0m_variable_creation_fn\u001b[0m \u001b[0;32mis\u001b[0m \u001b[0;32mnot\u001b[0m \u001b[0;32mNone\u001b[0m\u001b[0;34m:\u001b[0m\u001b[0;34m\u001b[0m\u001b[0;34m\u001b[0m\u001b[0m\n\u001b[1;32m    928\u001b[0m       \u001b[0;31m# Release the lock early so that multiple threads can perform the call\u001b[0m\u001b[0;34m\u001b[0m\u001b[0;34m\u001b[0m\u001b[0m\n",
            "\u001b[0;32m/usr/local/lib/python3.10/dist-packages/tensorflow/python/eager/polymorphic_function/tracing_compiler.py\u001b[0m in \u001b[0;36m__call__\u001b[0;34m(self, *args, **kwargs)\u001b[0m\n\u001b[1;32m    141\u001b[0m       (concrete_function,\n\u001b[1;32m    142\u001b[0m        filtered_flat_args) = self._maybe_define_function(args, kwargs)\n\u001b[0;32m--> 143\u001b[0;31m     return concrete_function._call_flat(\n\u001b[0m\u001b[1;32m    144\u001b[0m         filtered_flat_args, captured_inputs=concrete_function.captured_inputs)  # pylint: disable=protected-access\n\u001b[1;32m    145\u001b[0m \u001b[0;34m\u001b[0m\u001b[0m\n",
            "\u001b[0;32m/usr/local/lib/python3.10/dist-packages/tensorflow/python/eager/polymorphic_function/monomorphic_function.py\u001b[0m in \u001b[0;36m_call_flat\u001b[0;34m(self, args, captured_inputs, cancellation_manager)\u001b[0m\n\u001b[1;32m   1755\u001b[0m         and executing_eagerly):\n\u001b[1;32m   1756\u001b[0m       \u001b[0;31m# No tape is watching; skip to running the function.\u001b[0m\u001b[0;34m\u001b[0m\u001b[0;34m\u001b[0m\u001b[0m\n\u001b[0;32m-> 1757\u001b[0;31m       return self._build_call_outputs(self._inference_function.call(\n\u001b[0m\u001b[1;32m   1758\u001b[0m           ctx, args, cancellation_manager=cancellation_manager))\n\u001b[1;32m   1759\u001b[0m     forward_backward = self._select_forward_and_backward_functions(\n",
            "\u001b[0;32m/usr/local/lib/python3.10/dist-packages/tensorflow/python/eager/polymorphic_function/monomorphic_function.py\u001b[0m in \u001b[0;36mcall\u001b[0;34m(self, ctx, args, cancellation_manager)\u001b[0m\n\u001b[1;32m    379\u001b[0m       \u001b[0;32mwith\u001b[0m \u001b[0m_InterpolateFunctionError\u001b[0m\u001b[0;34m(\u001b[0m\u001b[0mself\u001b[0m\u001b[0;34m)\u001b[0m\u001b[0;34m:\u001b[0m\u001b[0;34m\u001b[0m\u001b[0;34m\u001b[0m\u001b[0m\n\u001b[1;32m    380\u001b[0m         \u001b[0;32mif\u001b[0m \u001b[0mcancellation_manager\u001b[0m \u001b[0;32mis\u001b[0m \u001b[0;32mNone\u001b[0m\u001b[0;34m:\u001b[0m\u001b[0;34m\u001b[0m\u001b[0;34m\u001b[0m\u001b[0m\n\u001b[0;32m--> 381\u001b[0;31m           outputs = execute.execute(\n\u001b[0m\u001b[1;32m    382\u001b[0m               \u001b[0mstr\u001b[0m\u001b[0;34m(\u001b[0m\u001b[0mself\u001b[0m\u001b[0;34m.\u001b[0m\u001b[0msignature\u001b[0m\u001b[0;34m.\u001b[0m\u001b[0mname\u001b[0m\u001b[0;34m)\u001b[0m\u001b[0;34m,\u001b[0m\u001b[0;34m\u001b[0m\u001b[0;34m\u001b[0m\u001b[0m\n\u001b[1;32m    383\u001b[0m               \u001b[0mnum_outputs\u001b[0m\u001b[0;34m=\u001b[0m\u001b[0mself\u001b[0m\u001b[0;34m.\u001b[0m\u001b[0m_num_outputs\u001b[0m\u001b[0;34m,\u001b[0m\u001b[0;34m\u001b[0m\u001b[0;34m\u001b[0m\u001b[0m\n",
            "\u001b[0;32m/usr/local/lib/python3.10/dist-packages/tensorflow/python/eager/execute.py\u001b[0m in \u001b[0;36mquick_execute\u001b[0;34m(op_name, num_outputs, inputs, attrs, ctx, name)\u001b[0m\n\u001b[1;32m     50\u001b[0m   \u001b[0;32mtry\u001b[0m\u001b[0;34m:\u001b[0m\u001b[0;34m\u001b[0m\u001b[0;34m\u001b[0m\u001b[0m\n\u001b[1;32m     51\u001b[0m     \u001b[0mctx\u001b[0m\u001b[0;34m.\u001b[0m\u001b[0mensure_initialized\u001b[0m\u001b[0;34m(\u001b[0m\u001b[0;34m)\u001b[0m\u001b[0;34m\u001b[0m\u001b[0;34m\u001b[0m\u001b[0m\n\u001b[0;32m---> 52\u001b[0;31m     tensors = pywrap_tfe.TFE_Py_Execute(ctx._handle, device_name, op_name,\n\u001b[0m\u001b[1;32m     53\u001b[0m                                         inputs, attrs, num_outputs)\n\u001b[1;32m     54\u001b[0m   \u001b[0;32mexcept\u001b[0m \u001b[0mcore\u001b[0m\u001b[0;34m.\u001b[0m\u001b[0m_NotOkStatusException\u001b[0m \u001b[0;32mas\u001b[0m \u001b[0me\u001b[0m\u001b[0;34m:\u001b[0m\u001b[0;34m\u001b[0m\u001b[0;34m\u001b[0m\u001b[0m\n",
            "\u001b[0;31mKeyboardInterrupt\u001b[0m: "
          ]
        }
      ]
    },
    {
      "cell_type": "code",
      "source": [
        "# Evaluate the model\n",
        "loss, accuracy = model.evaluate(X_test, y_test)\n",
        "print(\"Test Loss:\", loss)\n",
        "print(\"Test Accuracy:\", accuracy)\n"
      ],
      "metadata": {
        "colab": {
          "base_uri": "https://localhost:8080/"
        },
        "id": "ACl73IWfX4pf",
        "outputId": "416ed2b8-74d7-4eeb-e10a-c7af582da880"
      },
      "execution_count": null,
      "outputs": [
        {
          "output_type": "stream",
          "name": "stdout",
          "text": [
            "1463/1463 [==============================] - 12s 8ms/step - loss: 0.0103 - accuracy: 0.9973\n",
            "Test Loss: 0.010331050492823124\n",
            "Test Accuracy: 0.9973285794258118\n"
          ]
        }
      ]
    },
    {
      "cell_type": "code",
      "source": [
        "# Assuming you have already defined and trained your model (model)\n",
        "# and have the test data in X_test.\n",
        "\n",
        "# Make predictions on the test data\n",
        "predictions = model.predict(X_test)\n",
        "\n",
        "# The 'predictions' variable will now contain the predicted outputs for each test sample.\n"
      ],
      "metadata": {
        "colab": {
          "base_uri": "https://localhost:8080/"
        },
        "id": "sFiX1D7EY9By",
        "outputId": "b8ec2eb9-d171-4846-e48d-7c2177635471"
      },
      "execution_count": null,
      "outputs": [
        {
          "output_type": "stream",
          "name": "stdout",
          "text": [
            "1463/1463 [==============================] - 8s 5ms/step\n"
          ]
        }
      ]
    },
    {
      "cell_type": "code",
      "source": [
        "print(predictions)\n"
      ],
      "metadata": {
        "colab": {
          "base_uri": "https://localhost:8080/"
        },
        "id": "eDX1pLEiZF6a",
        "outputId": "795835d0-4220-4796-b6e5-30d86674ed47"
      },
      "execution_count": null,
      "outputs": [
        {
          "output_type": "stream",
          "name": "stdout",
          "text": [
            "[[4.6844111e-09]\n",
            " [3.6647333e-07]\n",
            " [7.1461164e-13]\n",
            " ...\n",
            " [3.9088278e-11]\n",
            " [5.8647629e-09]\n",
            " [3.4799685e-10]]\n"
          ]
        }
      ]
    },
    {
      "cell_type": "code",
      "source": [
        "import numpy as np\n",
        "\n",
        "# Assuming you have already trained the model and obtained predictions\n",
        "predictions = model.predict(X_test)\n",
        "\n",
        "# Custom threshold (e.g., 0.6) for classification\n",
        "custom_threshold = 0.6\n",
        "\n",
        "# Classify data as fraud (1) or non-fraud (0) based on the custom threshold\n",
        "predicted_labels = np.where(predictions >= custom_threshold, 1, 0)\n"
      ],
      "metadata": {
        "colab": {
          "base_uri": "https://localhost:8080/"
        },
        "id": "ZaVSiDbQZbAL",
        "outputId": "e92d7439-d4bd-4019-9e66-203a87fd69a3"
      },
      "execution_count": null,
      "outputs": [
        {
          "output_type": "stream",
          "name": "stdout",
          "text": [
            "1463/1463 [==============================] - 12s 8ms/step\n"
          ]
        }
      ]
    },
    {
      "cell_type": "code",
      "source": [
        "print(predicted_labels)\n",
        "\n"
      ],
      "metadata": {
        "colab": {
          "base_uri": "https://localhost:8080/"
        },
        "id": "cgyFTCGzZtsJ",
        "outputId": "96e59501-d370-4202-d627-59b9891e73c2"
      },
      "execution_count": null,
      "outputs": [
        {
          "output_type": "stream",
          "name": "stdout",
          "text": [
            "[[0]\n",
            " [0]\n",
            " [0]\n",
            " ...\n",
            " [0]\n",
            " [0]\n",
            " [0]]\n"
          ]
        }
      ]
    },
    {
      "cell_type": "code",
      "source": [
        "import pandas as pd\n",
        "import numpy as np\n",
        "import matplotlib.pyplot as plt\n",
        "from sklearn.metrics import roc_curve, roc_auc_score, f1_score, confusion_matrix\n",
        "\n",
        "# Assuming you have already trained the model and obtained predictions\n",
        "predictions = model.predict(X_test)\n",
        "\n",
        "# Calculate the ROC curve and AUC score\n",
        "fpr, tpr, thresholds = roc_curve(y_test, predictions)\n",
        "roc_auc = roc_auc_score(y_test, predictions)"
      ],
      "metadata": {
        "colab": {
          "base_uri": "https://localhost:8080/"
        },
        "id": "-d-m6oSYaTT5",
        "outputId": "f4c09934-2855-4dd9-c042-0e2089a3dec2"
      },
      "execution_count": null,
      "outputs": [
        {
          "output_type": "stream",
          "name": "stdout",
          "text": [
            "1463/1463 [==============================] - 19s 13ms/step\n"
          ]
        }
      ]
    },
    {
      "cell_type": "code",
      "source": [
        "# Calculate the F1 score\n",
        "# Since the threshold for classifying data as fraud is not 0.5 anymore, we need to adjust the predictions\n",
        "custom_threshold = 0.6\n",
        "predicted_labels = np.where(predictions >= custom_threshold, 1, 0)\n",
        "f1 = f1_score(y_test, predicted_labels)\n",
        "\n",
        "# Display the ROC curve\n",
        "plt.figure()\n",
        "plt.plot(fpr, tpr, color='blue', lw=2, label='ROC curve (AUC = %0.2f)' % roc_auc)\n",
        "plt.plot([0, 1], [0, 1], color='gray', linestyle='--')\n",
        "plt.xlim([0.0, 1.0])\n",
        "plt.ylim([0.0, 1.05])\n",
        "plt.xlabel('False Positive Rate')\n",
        "plt.ylabel('True Positive Rate')\n",
        "plt.title('Receiver Operating Characteristic (ROC) Curve')\n",
        "plt.legend(loc=\"lower right\")\n",
        "plt.show()\n",
        "\n",
        "print(\"AUC Score:\", roc_auc)\n",
        "print(\"F1 Score:\", f1)"
      ],
      "metadata": {
        "colab": {
          "base_uri": "https://localhost:8080/",
          "height": 507
        },
        "id": "UzGTqrwTahrT",
        "outputId": "9f9c7116-b7a7-4690-fba0-4b568757a5a9"
      },
      "execution_count": null,
      "outputs": [
        {
          "output_type": "display_data",
          "data": {
            "text/plain": [
              "<Figure size 640x480 with 1 Axes>"
            ],
            "image/png": "[encoded data removed]"
          },
          "metadata": {}
        },
        {
          "output_type": "stream",
          "name": "stdout",
          "text": [
            "AUC Score: 0.9968892975093698\n",
            "F1 Score: 0.7936507936507937\n"
          ]
        }
      ]
    },
    {
      "cell_type": "code",
      "source": [
        "#import numpy as np\n",
        "\n",
        "# Assuming you have already trained the model and obtained predictions\n",
        "#predictions = model.predict(X_test)\n",
        "\n",
        "# Define custom thresholds for each bucket (e.g., low, medium, and high confidence)\n",
        "low_confidence_threshold = 0.2\n",
        "medium_confidence_threshold = 0.6\n",
        "high_confidence_threshold = 0.9\n",
        "\n",
        "# Classify data into buckets based on the custom thresholds\n",
        "bucket_low_confidence = np.where(predictions < low_confidence_threshold, 1, 0)\n",
        "bucket_medium_confidence = np.where(\n",
        "    (predictions >= low_confidence_threshold) & (predictions < medium_confidence_threshold),\n",
        "    1,\n",
        "    0,\n",
        ")\n",
        "bucket_high_confidence = np.where(predictions >= medium_confidence_threshold, 1, 0)\n",
        "\n",
        "# Calculate the counts of fraud cases in each bucket\n",
        "low_confidence_fraud_count = np.sum(y_test * bucket_low_confidence)\n",
        "medium_confidence_fraud_count = np.sum(y_test * bucket_medium_confidence)\n",
        "high_confidence_fraud_count = np.sum(y_test * bucket_high_confidence)\n",
        "\n",
        "# Display the counts of fraud cases in each bucket\n",
        "print(\"Low Confidence Fraud Count:\", low_confidence_fraud_count)\n",
        "print(\"Medium Confidence Fraud Count:\", medium_confidence_fraud_count)\n",
        "print(\"High Confidence Fraud Count:\", high_confidence_fraud_count)\n"
      ],
      "metadata": {
        "colab": {
          "base_uri": "https://localhost:8080/",
          "height": 253
        },
        "id": "vPBPeA437IDE",
        "outputId": "277b98b7-5ddc-433d-82ef-6900f04fc969"
      },
      "execution_count": null,
      "outputs": [
        {
          "output_type": "error",
          "ename": "NameError",
          "evalue": "ignored",
          "traceback": [
            "\u001b[0;31m---------------------------------------------------------------------------\u001b[0m",
            "\u001b[0;31mNameError\u001b[0m                                 Traceback (most recent call last)",
            "\u001b[0;32m<ipython-input-2-1728385674ed>\u001b[0m in \u001b[0;36m<cell line: 12>\u001b[0;34m()\u001b[0m\n\u001b[1;32m     10\u001b[0m \u001b[0;34m\u001b[0m\u001b[0m\n\u001b[1;32m     11\u001b[0m \u001b[0;31m# Classify data into buckets based on the custom thresholds\u001b[0m\u001b[0;34m\u001b[0m\u001b[0;34m\u001b[0m\u001b[0m\n\u001b[0;32m---> 12\u001b[0;31m \u001b[0mbucket_low_confidence\u001b[0m \u001b[0;34m=\u001b[0m \u001b[0mnp\u001b[0m\u001b[0;34m.\u001b[0m\u001b[0mwhere\u001b[0m\u001b[0;34m(\u001b[0m\u001b[0mpredictions\u001b[0m \u001b[0;34m<\u001b[0m \u001b[0mlow_confidence_threshold\u001b[0m\u001b[0;34m,\u001b[0m \u001b[0;36m1\u001b[0m\u001b[0;34m,\u001b[0m \u001b[0;36m0\u001b[0m\u001b[0;34m)\u001b[0m\u001b[0;34m\u001b[0m\u001b[0;34m\u001b[0m\u001b[0m\n\u001b[0m\u001b[1;32m     13\u001b[0m bucket_medium_confidence = np.where(\n\u001b[1;32m     14\u001b[0m     \u001b[0;34m(\u001b[0m\u001b[0mpredictions\u001b[0m \u001b[0;34m>=\u001b[0m \u001b[0mlow_confidence_threshold\u001b[0m\u001b[0;34m)\u001b[0m \u001b[0;34m&\u001b[0m \u001b[0;34m(\u001b[0m\u001b[0mpredictions\u001b[0m \u001b[0;34m<\u001b[0m \u001b[0mmedium_confidence_threshold\u001b[0m\u001b[0;34m)\u001b[0m\u001b[0;34m,\u001b[0m\u001b[0;34m\u001b[0m\u001b[0;34m\u001b[0m\u001b[0m\n",
            "\u001b[0;31mNameError\u001b[0m: name 'predictions' is not defined"
          ]
        }
      ]
    }
  ]
}